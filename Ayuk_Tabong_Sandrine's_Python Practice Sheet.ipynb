{
  "nbformat": 4,
  "nbformat_minor": 0,
  "metadata": {
    "colab": {
      "provenance": [],
      "authorship_tag": "ABX9TyPkatXgo3CyQKht3YWlD5eP",
      "include_colab_link": true
    },
    "kernelspec": {
      "name": "python3",
      "display_name": "Python 3"
    },
    "language_info": {
      "name": "python"
    }
  },
  "cells": [
    {
      "cell_type": "markdown",
      "metadata": {
        "id": "view-in-github",
        "colab_type": "text"
      },
      "source": [
        "<a href=\"https://colab.research.google.com/github/Sandy3435/Board-Game/blob/main/Ayuk_Tabong_Sandrine's_Python%20Practice%20Sheet.ipynb\" target=\"_parent\"><img src=\"https://colab.research.google.com/assets/colab-badge.svg\" alt=\"Open In Colab\"/></a>"
      ]
    },
    {
      "cell_type": "code",
      "execution_count": null,
      "metadata": {
        "id": "r0R6m3hlq17Q",
        "colab": {
          "base_uri": "https://localhost:8080/"
        },
        "outputId": "4c0c3ca8-c2ad-4aa5-89ac-a742ec7571c9"
      },
      "outputs": [
        {
          "output_type": "stream",
          "name": "stdout",
          "text": [
            "Enter the width:5\n",
            "Enter the height:7\n",
            "The Area is: 35\n",
            "The Perimeter is: 24\n"
          ]
        }
      ],
      "source": [
        "#Rectangle\n",
        "\n",
        "\n",
        "# Defining a class called Rectangle\n",
        "class Rectangle():\n",
        "    def __init__(self, width, height):\n",
        "        self.width = width\n",
        "        self.height = height\n",
        "\n",
        "    # Method to calculate the area of the rectangle\n",
        "    def area(self):\n",
        "        return self.width * self.height\n",
        "\n",
        "    # Method to calculate the perimeter of the rectangle\n",
        "    def perimeter(self):\n",
        "        return 2 * self.width + 2 * self.height\n",
        "\n",
        "# Taking input from the user\n",
        "width = int(input('Enter the width:'))\n",
        "height = int(input('Enter the height:'))\n",
        "\n",
        "# Creating an instance of Rectangle class\n",
        "calculate = Rectangle(width, height)\n",
        "\n",
        "# Calculating area and perimeter using methods of Rectangle class\n",
        "area = calculate.area()\n",
        "perimeter = calculate.perimeter()\n",
        "\n",
        "print(f\"The Area is: {area}\")\n",
        "print(f\"The Perimeter is: {perimeter}\")\n"
      ]
    },
    {
      "cell_type": "code",
      "source": [
        "#Bank Account\n",
        "\n",
        "\n",
        "# Defining a class called BankAccount\n",
        "class BankAccount():\n",
        "    def __init__(self, account_number, account_holder_name, balance):\n",
        "        self.account_number = account_number\n",
        "        self.account_holder_name = account_holder_name\n",
        "        self.balance = balance\n",
        "\n",
        "    # Method to deposit money into the account\n",
        "    def deposit(self, deposit_amount):\n",
        "        # Increasing the balance by the deposit amount\n",
        "        self.balance += deposit_amount\n",
        "        return self.balance\n",
        "\n",
        "    # Method to withdraw money from the account\n",
        "    def withdraw(self, withdrawal_amount):\n",
        "        # Decreasing the balance by the withdrawal amount\n",
        "        self.balance -= withdrawal_amount\n",
        "        return self.balance\n",
        "\n",
        "# Creating an instance of BankAccount class with initial account details\n",
        "account = BankAccount(account_number=12858949, account_holder_name='Ayuk Sandrine', balance=250000000)\n",
        "\n",
        "# Prompting the user for their choice\n",
        "n = int(input('''What would you like to do today?\\n\n",
        "      1. Withdraw\\n\n",
        "      2. Deposit\\n\n",
        "      3. Exit\n",
        "'''))\n",
        "\n",
        "# Checking the user's choice and performing the corresponding actions\n",
        "if n == 1:\n",
        "    amount = int(input('How much would you like to withdraw?\\n'))\n",
        "    balance = account.withdraw(amount)\n",
        "    print('Success!\\nYour Balance is ', balance)\n",
        "elif n == 2:\n",
        "    amount = int(input('How much would you like to deposit?\\n'))\n",
        "    balance = account.deposit(amount)\n",
        "    print('Success!\\nYour Balance is ', balance)\n",
        "elif n == 3:\n",
        "    exit()\n",
        "else:\n",
        "    print('Invalid Input!')\n"
      ],
      "metadata": {
        "colab": {
          "base_uri": "https://localhost:8080/"
        },
        "id": "K2aXu15MxDOV",
        "outputId": "642e74f8-2515-4d25-a9d1-35eb62687d9d"
      },
      "execution_count": null,
      "outputs": [
        {
          "output_type": "stream",
          "name": "stdout",
          "text": [
            "What would you like to do today?\n",
            "\n",
            "      1. Withdraw\n",
            "\n",
            "      2. Deposit\n",
            "\n",
            "      3. Exit\n",
            "2\n",
            "How much would you like to deposit?\n",
            "5000999\n",
            "Success!\n",
            "Your Balance is  255000999\n"
          ]
        }
      ]
    },
    {
      "cell_type": "code",
      "source": [
        "#Game\n",
        "\n",
        "#Creating Parent Class\n",
        "class Game():\n",
        "    def __init__(self, game_name, num_players, rules):\n",
        "        self.game_name = game_name\n",
        "        self.num_players = num_players\n",
        "        self.rules = rules\n",
        "\n",
        "#Method to display game rules\n",
        "    def information(self):\n",
        "        print(f\"\\nThe name of the game is {self.game_name}\\nIt requires a maximum of {self.num_players} players\\n\\nHere are the major rules:\\n\")\n",
        "        print(self.rules)\n",
        "\n",
        "#Creating sub classes\n",
        "class Chess(Game):\n",
        "    def __init__(self,game_name, num_players, rules):\n",
        "        super().__init__(game_name, num_players, rules)\n",
        "\n",
        "\n",
        "\n",
        "class Monopoly(Chess):\n",
        "    def __init__(self,game_name, num_players, rules):\n",
        "        super().__init__(game_name, num_players, rules)\n",
        "\n",
        "class Scrabble(Chess):\n",
        "    def __init__(self,game_name, num_players, rules):\n",
        "        super().__init__(game_name, num_players, rules)\n",
        "\n",
        "#Creating sub class instances\n",
        "game_info1 = Chess(\"Chess\", \"2\", '''1. Checkmate: The primary objective of chess is to checkmate your opponent's king. Checkmate occurs when the opponent's king is in a position to be captured (in check) and cannot escape capture on the next move. It's the ultimate goal and the most significant rule determining victory.\\n\n",
        "2. Special Moves: Chess has several special moves, including castling and pawn promotion. Castling allows the king to move two squares towards a rook on its initial square, then that rook moves to the square adjacent to the king. Pawn promotion occurs when a pawn reaches the opposite side of the board, where it can be exchanged for any other piece except a king.''')\n",
        "game_info2 = Monopoly(\"Monopoly\", \"8\", '''1. Property Ownership: The cornerstone of Monopoly is property ownership. Players buy properties when they land on them, and they can collect rent from opponents who land on their properties. Owning monopolies (all properties of the same color) increases rent and can be a significant source of income.\\n\n",
        "2. Bankruptcy: In Monopoly, players can go bankrupt if they can't afford to pay debts such as rent, taxes, or other fees. When a player goes bankrupt, they must forfeit all their assets (properties, houses, hotels) to the creditor, typically leaving the game. Bankruptcy is a pivotal rule as it directly affects a player's ability to stay in the game and win.''')\n",
        "game_info3 = Scrabble(\"Scrabble\", \"4\", '''1. Word Formation: Scrabble revolves around forming words on the board using letter tiles. Players must adhere to the rules of word formation, including spelling correctly and connecting to existing words on the board. Word formation is crucial as it determines a player's score and strategy.\\n\n",
        "2. Scoring: Each letter tile in Scrabble has a specific point value, and players earn points based on the letters they use to form words. Additionally, certain squares on the board offer bonus points for letters or words. Understanding the scoring system is essential for maximizing points and gaining an advantage over opponents.''')\n",
        "\n",
        "#Getting input from the user\n",
        "n = int(input('''\\nHello and welcome to game info\\nWhich game would you like to know more about?\\n\n",
        "        1. Chess\n",
        "        2.Monopoly\n",
        "        3.Scrabble\\n'''))\n",
        "if n == 1:\n",
        "    game_info1.information()\n",
        "elif n == 2:\n",
        "    game_info2.information()\n",
        "elif n == 3:\n",
        "    game_info3.information()\n",
        "else:\n",
        "    print('Invalid Input')\n",
        "\n"
      ],
      "metadata": {
        "colab": {
          "base_uri": "https://localhost:8080/"
        },
        "id": "_WNJdZDux-PQ",
        "outputId": "3824523d-ba09-427f-8997-4b33f5054793"
      },
      "execution_count": 1,
      "outputs": [
        {
          "output_type": "stream",
          "name": "stdout",
          "text": [
            "\n",
            "Hello and welcome to game info\n",
            "Which game would you like to know more about?\n",
            "\n",
            "        1. Chess\n",
            "        2.Monopoly\n",
            "        3.Scrabble\n",
            "3\n",
            "\n",
            "The name of the game is Scrabble\n",
            "It requires a maximum of 4 players\n",
            "\n",
            "Here are the major rules:\n",
            "\n",
            "1. Word Formation: Scrabble revolves around forming words on the board using letter tiles. Players must adhere to the rules of word formation, including spelling correctly and connecting to existing words on the board. Word formation is crucial as it determines a player's score and strategy.\n",
            "\n",
            "2. Scoring: Each letter tile in Scrabble has a specific point value, and players earn points based on the letters they use to form words. Additionally, certain squares on the board offer bonus points for letters or words. Understanding the scoring system is essential for maximizing points and gaining an advantage over opponents.\n"
          ]
        }
      ]
    },
    {
      "cell_type": "code",
      "source": [
        "#Car\n",
        "\n",
        "# Defining a class called Car\n",
        "class Car:\n",
        "    count = 0  # The variable to keep track of the total number of cars\n",
        "    def __init__(self, make, model, year):\n",
        "        self.make = make\n",
        "        self.model = model\n",
        "        self.year = year\n",
        "        Car.count += 1  # Incrementing the count each time a new class is created\n",
        "\n",
        "    @classmethod #Defining a method that acts on the class itself\n",
        "    def total_count(cls): #cls is used because I am referring to the class itself\n",
        "        return cls.count\n",
        "\n",
        "\n",
        "car1 = Car(\"Toyota\", \"Camry\", 2020)\n",
        "car2 = Car(\"Honda\", \"Accord\", 2019)\n",
        "car3 = Car(\"Ford\", \"Fiesta\", 2018)\n",
        "\n",
        "print(\"Total number of cars created:\", Car.total_count())"
      ],
      "metadata": {
        "colab": {
          "base_uri": "https://localhost:8080/"
        },
        "id": "_O7MZZppyUYr",
        "outputId": "a284a93a-19e5-4f58-c44a-b3dc8de1e0e6"
      },
      "execution_count": null,
      "outputs": [
        {
          "output_type": "stream",
          "name": "stdout",
          "text": [
            "Total number of cars created: 3\n"
          ]
        }
      ]
    },
    {
      "cell_type": "code",
      "source": [
        "#Employee\n",
        "\n",
        "\n",
        "# Defining a class called Employee\n",
        "class Employee():\n",
        "    def __init__(self, name, salary, designation):\n",
        "        self.name = name\n",
        "        self.salary = salary\n",
        "        self.designation = designation\n",
        "    '''\n",
        "    Assuming there are just employers, regular employees and managers in the company\n",
        "    employer bonus = 20%\n",
        "    manager bonus = 10%\n",
        "    regular employee = 5%\n",
        "    '''\n",
        "#Method to check user input and perform matching action\n",
        "    def bonus(self):\n",
        "        if self.designation == '3':\n",
        "            bonus = 0.05\n",
        "            amount = bonus * self.salary\n",
        "            return amount\n",
        "        elif self.designation == '2':\n",
        "            bonus = 0.10\n",
        "            amount = bonus * self.salary\n",
        "            return amount\n",
        "        elif self.designation == '1':\n",
        "            bonus = 0.20\n",
        "            amount = bonus * self.salary\n",
        "            return amount\n",
        "        else:\n",
        "            return \"Invalid Entry\"\n",
        "\n",
        "\n",
        "name = input('Enter your name:\\n')\n",
        "salary = input('Enter your salary:\\n')\n",
        "designation = input('\\nSelect Designation:\\n1. Employer\\n2. Manager\\n3. Regular employee\\n')\n",
        "Sky8 = Employee(name, float(salary), designation)\n",
        "amount = Sky8.bonus()\n",
        "print(f\"{name}'s annual bonus is {amount}\\n\")\n"
      ],
      "metadata": {
        "id": "GLT6VeKEyX61"
      },
      "execution_count": null,
      "outputs": []
    }
  ]
}